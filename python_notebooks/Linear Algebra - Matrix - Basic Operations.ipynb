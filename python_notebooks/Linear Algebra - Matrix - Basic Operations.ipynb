{
 "cells": [
  {
   "cell_type": "markdown",
   "metadata": {},
   "source": [
    "# Linear Algerba Using Python3 & Numpy\n",
    "\n",
    "<h4>Matrix Basic Operations like</h4>\n",
    "\n",
    "<ul>\n",
    "<li>Row Vector\n",
    "<li>Column Vector\n",
    "<li>Additions\n",
    "<li>Multiplications\n",
    "<li>Transpose\n",
    "<li>Identity\n"
   ]
  },
  {
   "cell_type": "code",
   "execution_count": 1,
   "metadata": {},
   "outputs": [],
   "source": [
    "import numpy as np"
   ]
  },
  {
   "cell_type": "code",
   "execution_count": 2,
   "metadata": {},
   "outputs": [
    {
     "name": "stdout",
     "output_type": "stream",
     "text": [
      "[1 2 3]\n"
     ]
    }
   ],
   "source": [
    "# Row Vector or (1 x n) Matrix\n",
    "\n",
    "x = np.array([1, 2, 3])\n",
    "print(x)"
   ]
  },
  {
   "cell_type": "code",
   "execution_count": 3,
   "metadata": {},
   "outputs": [
    {
     "name": "stdout",
     "output_type": "stream",
     "text": [
      "[[1]\n",
      " [2]\n",
      " [3]]\n"
     ]
    }
   ],
   "source": [
    "# Column Vector or (n x 1) Matrix\n",
    "\n",
    "x = np.array([[1],[2],[3]])\n",
    "print(x)"
   ]
  },
  {
   "cell_type": "code",
   "execution_count": 4,
   "metadata": {},
   "outputs": [
    {
     "name": "stdout",
     "output_type": "stream",
     "text": [
      "[[1 2 3]\n",
      " [4 5 6]\n",
      " [7 8 9]]\n"
     ]
    }
   ],
   "source": [
    "# Square Matrix or (n x n) Matrix\n",
    "\n",
    "x = np.array([[1,2,3], [4,5,6], [7,8,9]])\n",
    "print(x)"
   ]
  },
  {
   "cell_type": "code",
   "execution_count": 5,
   "metadata": {},
   "outputs": [
    {
     "name": "stdout",
     "output_type": "stream",
     "text": [
      "[[1 2 3]\n",
      " [4 5 6]]\n"
     ]
    }
   ],
   "source": [
    "# (m x n) Matrix\n",
    "\n",
    "x = np.array([[1,2,3], [4,5,6]])\n",
    "print(x)"
   ]
  },
  {
   "cell_type": "code",
   "execution_count": 6,
   "metadata": {},
   "outputs": [
    {
     "name": "stdout",
     "output_type": "stream",
     "text": [
      "[[1 2 3]\n",
      " [4 5 6]\n",
      " [7 8 9]]\n",
      "\n",
      "Shape :  (3, 3)\n"
     ]
    }
   ],
   "source": [
    "# Shape of the Matrix\n",
    "\n",
    "x = np.array([[1,2,3], [4,5,6], [7,8,9]])\n",
    "shape = np.shape(x)\n",
    "\n",
    "print(x)\n",
    "print(\"\\nShape : \", shape)"
   ]
  },
  {
   "cell_type": "markdown",
   "metadata": {},
   "source": [
    "# Identity Matrix"
   ]
  },
  {
   "cell_type": "code",
   "execution_count": 7,
   "metadata": {},
   "outputs": [
    {
     "name": "stdout",
     "output_type": "stream",
     "text": [
      "[[1. 0. 0. 0.]\n",
      " [0. 1. 0. 0.]\n",
      " [0. 0. 1. 0.]\n",
      " [0. 0. 0. 1.]]\n"
     ]
    }
   ],
   "source": [
    "# (n x n) Identity Matrix\n",
    "\n",
    "x = np.eye(4)\n",
    "print(x)"
   ]
  },
  {
   "cell_type": "markdown",
   "metadata": {},
   "source": [
    "# Random Matrix"
   ]
  },
  {
   "cell_type": "code",
   "execution_count": 8,
   "metadata": {},
   "outputs": [
    {
     "name": "stdout",
     "output_type": "stream",
     "text": [
      "[[ 3 11  5 16]\n",
      " [13  3  5  6]\n",
      " [14  5  4 10]]\n"
     ]
    }
   ],
   "source": [
    "# Generating (m x n) Random Matrix\n",
    "\n",
    "x = np.random.randint(20, size=(3, 4))\n",
    "print(x)"
   ]
  },
  {
   "cell_type": "code",
   "execution_count": 9,
   "metadata": {},
   "outputs": [
    {
     "name": "stdout",
     "output_type": "stream",
     "text": [
      "[[ 4 10  5  5]\n",
      " [13  1  1  8]\n",
      " [13 17  1 10]\n",
      " [12  5  7 17]]\n"
     ]
    }
   ],
   "source": [
    "# Generating (n x n) Random Matrix\n",
    "\n",
    "x = np.random.randint(20, size=(4, 4))\n",
    "print(x)"
   ]
  },
  {
   "cell_type": "markdown",
   "metadata": {},
   "source": [
    "# Transpose of a Matrix"
   ]
  },
  {
   "cell_type": "code",
   "execution_count": 10,
   "metadata": {},
   "outputs": [
    {
     "name": "stdout",
     "output_type": "stream",
     "text": [
      "[[ 5 13  8  7]\n",
      " [11  5  6  2]\n",
      " [11  2  8 13]]\n",
      "[[ 5 11 11]\n",
      " [13  5  2]\n",
      " [ 8  6  8]\n",
      " [ 7  2 13]]\n"
     ]
    }
   ],
   "source": [
    "A = np.random.randint(20, size=(3, 4))\n",
    "\n",
    "transpose = A.T\n",
    "\n",
    "print(A)\n",
    "print(transpose)"
   ]
  },
  {
   "cell_type": "markdown",
   "metadata": {},
   "source": [
    "# Matrix Addition"
   ]
  },
  {
   "cell_type": "code",
   "execution_count": 11,
   "metadata": {},
   "outputs": [
    {
     "name": "stdout",
     "output_type": "stream",
     "text": [
      "\n",
      "a : \n",
      " [[13  0 10  5]\n",
      " [ 0  9  7  7]\n",
      " [ 5  9  2  8]\n",
      " [ 4 11  8 19]]\n",
      "\n",
      "b : \n",
      " [[14 14 18 15]\n",
      " [13  6  1 15]\n",
      " [15 13  7  7]\n",
      " [19  6 13  9]]\n",
      "\n",
      "sum : \n",
      " [[27 14 28 20]\n",
      " [13 15  8 22]\n",
      " [20 22  9 15]\n",
      " [23 17 21 28]]\n"
     ]
    }
   ],
   "source": [
    "# Matrix Addition\n",
    "\n",
    "a = np.random.randint(20, size=(4,4))\n",
    "b = np.random.randint(20, size=(4,4))\n",
    "\n",
    "sum = a + b\n",
    "print(\"\\na : \\n\", a)\n",
    "print(\"\\nb : \\n\", b)\n",
    "print(\"\\nsum : \\n\", sum)"
   ]
  },
  {
   "cell_type": "code",
   "execution_count": 12,
   "metadata": {},
   "outputs": [
    {
     "name": "stdout",
     "output_type": "stream",
     "text": [
      "\n",
      "scalar :  5\n",
      "\n",
      "a : \n",
      " [[2 1 3]\n",
      " [2 3 5]\n",
      " [8 3 8]]\n",
      "\n",
      "scalar_sum : \n",
      " [[ 7  6  8]\n",
      " [ 7  8 10]\n",
      " [13  8 13]]\n"
     ]
    }
   ],
   "source": [
    "# Scalar Addition\n",
    "\n",
    "a = np.random.randint(10, size=(3,3))\n",
    "scalar = 5\n",
    "\n",
    "scalar_sum = scalar + a\n",
    "\n",
    "print(\"\\nscalar : \", scalar)\n",
    "print(\"\\na : \\n\", a)\n",
    "print(\"\\nscalar_sum : \\n\", scalar_sum)"
   ]
  },
  {
   "cell_type": "markdown",
   "metadata": {},
   "source": [
    "# Matrix Multiplication"
   ]
  },
  {
   "cell_type": "code",
   "execution_count": 13,
   "metadata": {},
   "outputs": [
    {
     "name": "stdout",
     "output_type": "stream",
     "text": [
      "\n",
      "a : \n",
      " [[4 0 1]\n",
      " [4 0 2]\n",
      " [3 5 4]\n",
      " [5 3 3]]\n",
      "\n",
      "b : \n",
      " [[3 0 1 0 1]\n",
      " [0 3 3 2 2]\n",
      " [2 1 0 1 4]]\n",
      "\n",
      "result : \n",
      " [[14  1  4  1  8]\n",
      " [16  2  4  2 12]\n",
      " [17 19 18 14 29]\n",
      " [21 12 14  9 23]]\n",
      "\n",
      "result matrix shape :  (4, 5)\n"
     ]
    }
   ],
   "source": [
    "# Matrix Multiplication\n",
    "\n",
    "a = np.random.randint(6, size=(4,3))\n",
    "b = np.random.randint(5, size=(3,5))\n",
    "\n",
    "result_matrix = a.dot(b)\n",
    "print(\"\\na : \\n\", a)\n",
    "print(\"\\nb : \\n\", b)\n",
    "print(\"\\nresult : \\n\", result_matrix)\n",
    "print(\"\\nresult matrix shape : \", np.shape(result_matrix))"
   ]
  },
  {
   "cell_type": "code",
   "execution_count": 14,
   "metadata": {},
   "outputs": [
    {
     "name": "stdout",
     "output_type": "stream",
     "text": [
      "\n",
      "scalar :  5\n",
      "\n",
      "a : \n",
      " [[9 0 2]\n",
      " [1 4 9]\n",
      " [1 5 0]]\n",
      "\n",
      "result : \n",
      " [[45  0 10]\n",
      " [ 5 20 45]\n",
      " [ 5 25  0]]\n",
      "\n",
      "result matrix shape :  (3, 3)\n"
     ]
    }
   ],
   "source": [
    "# Scalar Multiplication\n",
    "\n",
    "a = np.random.randint(10, size=(3,3))\n",
    "scalar = 5\n",
    "\n",
    "result_matrix = scalar * a\n",
    "\n",
    "print(\"\\nscalar : \", scalar)\n",
    "print(\"\\na : \\n\", a)\n",
    "print(\"\\nresult : \\n\", result_matrix)\n",
    "print(\"\\nresult matrix shape : \", np.shape(result_matrix))"
   ]
  },
  {
   "cell_type": "markdown",
   "metadata": {},
   "source": [
    "# Matrices mutliplication is distributive A(B+C)=AB+AC"
   ]
  },
  {
   "cell_type": "code",
   "execution_count": 15,
   "metadata": {},
   "outputs": [
    {
     "name": "stdout",
     "output_type": "stream",
     "text": [
      "\n",
      "A : \n",
      " [[1 4 0]\n",
      " [1 0 1]]\n",
      "\n",
      "B : \n",
      " [[2 2 1 1 0]\n",
      " [4 0 3 1 4]\n",
      " [1 4 0 4 1]]\n",
      "\n",
      "C : \n",
      " [[3 4 3 2 1]\n",
      " [3 2 0 3 2]\n",
      " [4 2 1 0 1]]\n",
      "\n",
      "result1 : \n",
      " [[33 14 16 19 25]\n",
      " [10 12  5  7  3]]\n",
      "\n",
      "result2 : \n",
      " [[33 14 16 19 25]\n",
      " [10 12  5  7  3]]\n",
      "\n",
      "\n",
      "Matrix Multiplication is Distributive :  True\n"
     ]
    }
   ],
   "source": [
    "A = np.random.randint(6, size=(2,3))\n",
    "B = np.random.randint(5, size=(3,5))\n",
    "C = np.random.randint(5, size=(3,5))\n",
    "\n",
    "result1 = A.dot(B + C)\n",
    "result2 = A.dot(B) + A.dot(C)\n",
    "\n",
    "print(\"\\nA : \\n\", A)\n",
    "print(\"\\nB : \\n\", B)\n",
    "print(\"\\nC : \\n\", C)\n",
    "\n",
    "print(\"\\nresult1 : \\n\", result1)\n",
    "print(\"\\nresult2 : \\n\", result2)\n",
    "\n",
    "print(\"\\n\\nMatrix Multiplication is Distributive : \", np.array_equal(result1, result2))"
   ]
  },
  {
   "cell_type": "markdown",
   "metadata": {},
   "source": [
    "# Matrices mutliplication is associative A(BC)=(AB)C"
   ]
  },
  {
   "cell_type": "code",
   "execution_count": 16,
   "metadata": {},
   "outputs": [
    {
     "name": "stdout",
     "output_type": "stream",
     "text": [
      "\n",
      "A : \n",
      " [[5 4 2 2 4]\n",
      " [0 1 5 5 0]\n",
      " [5 3 1 1 5]]\n",
      "\n",
      "B : \n",
      " [[0 3 2]\n",
      " [3 3 2]\n",
      " [2 4 2]\n",
      " [4 0 0]\n",
      " [1 0 1]]\n",
      "\n",
      "C : \n",
      " [[3 0 1 3]\n",
      " [2 4 1 3]\n",
      " [4 0 4 1]]\n",
      "\n",
      "result1 : \n",
      " [[258 140 167 215]\n",
      " [193  92 104 180]\n",
      " [208 112 140 167]]\n",
      "\n",
      "result2 : \n",
      " [[258 140 167 215]\n",
      " [193  92 104 180]\n",
      " [208 112 140 167]]\n",
      "\n",
      "\n",
      "Matrix Multiplication is Associative :  True\n"
     ]
    }
   ],
   "source": [
    "A = np.random.randint(6, size=(3,5))\n",
    "B = np.random.randint(5, size=(5,3))\n",
    "C = np.random.randint(5, size=(3,4))\n",
    "\n",
    "result1 = A.dot(np.dot(B, C))\n",
    "result2 = (np.dot(A,B)).dot(C)\n",
    "\n",
    "print(\"\\nA : \\n\", A)\n",
    "print(\"\\nB : \\n\", B)\n",
    "print(\"\\nC : \\n\", C)\n",
    "\n",
    "print(\"\\nresult1 : \\n\", result1)\n",
    "print(\"\\nresult2 : \\n\", result2)\n",
    "\n",
    "print(\"\\n\\nMatrix Multiplication is Associative : \", np.array_equal(result1, result2))"
   ]
  },
  {
   "cell_type": "markdown",
   "metadata": {},
   "source": [
    "# Matrix multiplication is not commutative AB≠BA"
   ]
  },
  {
   "cell_type": "code",
   "execution_count": 17,
   "metadata": {},
   "outputs": [
    {
     "name": "stdout",
     "output_type": "stream",
     "text": [
      "\n",
      "A : \n",
      " [[1 4 1]\n",
      " [1 5 0]\n",
      " [1 3 4]]\n",
      "\n",
      "B : \n",
      " [[4 1 2]\n",
      " [1 0 4]\n",
      " [0 2 0]]\n",
      "\n",
      "result1 : \n",
      " [[ 8  3 18]\n",
      " [ 9  1 22]\n",
      " [ 7  9 14]]\n",
      "\n",
      "result2 : \n",
      " [[ 7 27 12]\n",
      " [ 5 16 17]\n",
      " [ 2 10  0]]\n",
      "\n",
      "\n",
      "Matrix Multiplication is Commutative :  False\n"
     ]
    }
   ],
   "source": [
    "A = np.random.randint(6, size=(3,3))\n",
    "B = np.random.randint(5, size=(3,3))\n",
    "\n",
    "result1 = A.dot(B)\n",
    "result2 = B.dot(A)\n",
    "\n",
    "print(\"\\nA : \\n\", A)\n",
    "print(\"\\nB : \\n\", B)\n",
    "\n",
    "print(\"\\nresult1 : \\n\", result1)\n",
    "print(\"\\nresult2 : \\n\", result2)\n",
    "\n",
    "print(\"\\n\\nMatrix Multiplication is Commutative : \", np.array_equal(result1, result2))"
   ]
  },
  {
   "cell_type": "markdown",
   "metadata": {},
   "source": [
    "# Matrix Inversion"
   ]
  },
  {
   "cell_type": "code",
   "execution_count": 18,
   "metadata": {},
   "outputs": [
    {
     "name": "stdout",
     "output_type": "stream",
     "text": [
      "\n",
      "A : \n",
      " [[1 3 4]\n",
      " [3 4 1]\n",
      " [4 5 4]]\n",
      "\n",
      "Inverse : \n",
      " [[ 0.08599168  0.16019417 -0.03675451 -0.07905687]\n",
      " [ 0.02191401 -0.04466019  0.05353675 -0.01692094]\n",
      " [ 0.26269071  0.1038835  -0.14937587 -0.03828017]\n",
      " [-0.17531207 -0.14271845  0.07170596  0.13536755]]\n"
     ]
    }
   ],
   "source": [
    "A = np.random.randint(6, size=(3,3))\n",
    "\n",
    "inverse = np.linalg.inv(x)\n",
    "\n",
    "print(\"\\nA : \\n\", A)\n",
    "print(\"\\nInverse : \\n\", inverse)"
   ]
  },
  {
   "cell_type": "markdown",
   "metadata": {},
   "source": [
    "# Upper Triangualr Matrix"
   ]
  },
  {
   "cell_type": "code",
   "execution_count": 19,
   "metadata": {},
   "outputs": [
    {
     "name": "stdout",
     "output_type": "stream",
     "text": [
      "\n",
      "A : \n",
      " [[1 2 1 1]\n",
      " [5 3 0 4]\n",
      " [3 0 4 3]\n",
      " [0 0 0 0]]\n",
      "\n",
      "Upper : \n",
      " [[1 2 1 1]\n",
      " [0 3 0 4]\n",
      " [0 0 4 3]\n",
      " [0 0 0 0]]\n"
     ]
    }
   ],
   "source": [
    "A = np.random.randint(6, size=(4,4))\n",
    "upper = np.triu(A, 0)\n",
    "\n",
    "print(\"\\nA : \\n\", A)\n",
    "print(\"\\nUpper : \\n\", upper)"
   ]
  },
  {
   "cell_type": "markdown",
   "metadata": {},
   "source": [
    "# Lower Triangular Matrix"
   ]
  },
  {
   "cell_type": "code",
   "execution_count": 20,
   "metadata": {},
   "outputs": [
    {
     "name": "stdout",
     "output_type": "stream",
     "text": [
      "\n",
      "A : \n",
      " [[2 1 5 3]\n",
      " [1 5 5 0]\n",
      " [2 3 3 3]\n",
      " [0 0 1 0]]\n",
      "\n",
      "Lower : \n",
      " [[2 0 0 0]\n",
      " [1 5 0 0]\n",
      " [2 3 3 0]\n",
      " [0 0 1 0]]\n"
     ]
    }
   ],
   "source": [
    "A = np.random.randint(6, size=(4,4))\n",
    "lower = np.tril(A, 0)\n",
    "\n",
    "print(\"\\nA : \\n\", A)\n",
    "print(\"\\nLower : \\n\", lower)"
   ]
  },
  {
   "cell_type": "code",
   "execution_count": null,
   "metadata": {},
   "outputs": [],
   "source": []
  },
  {
   "cell_type": "markdown",
   "metadata": {},
   "source": [
    "# References:\n",
    "\n",
    "https://en.wikipedia.org/wiki/Matrix_(mathematics)\n",
    "\n",
    "https://en.wikipedia.org/wiki/Matrix_multiplication\n",
    "\n",
    "https://docs.scipy.org/doc/numpy/user/quickstart.html"
   ]
  }
 ],
 "metadata": {
  "kernelspec": {
   "display_name": "Python 3",
   "language": "python",
   "name": "python3"
  },
  "language_info": {
   "codemirror_mode": {
    "name": "ipython",
    "version": 3
   },
   "file_extension": ".py",
   "mimetype": "text/x-python",
   "name": "python",
   "nbconvert_exporter": "python",
   "pygments_lexer": "ipython3",
   "version": "3.5.2"
  }
 },
 "nbformat": 4,
 "nbformat_minor": 2
}
