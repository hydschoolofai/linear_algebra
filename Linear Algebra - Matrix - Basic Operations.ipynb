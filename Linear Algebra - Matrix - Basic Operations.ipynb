{
 "cells": [
  {
   "cell_type": "markdown",
   "metadata": {},
   "source": [
    "# Linear Algerba Using Python3 & Numpy\n",
    "\n",
    "<h4>Matrix Basic Operations like</h4>\n",
    "\n",
    "<ul>\n",
    "<li>Row Vector\n",
    "<li>Column Vector\n",
    "<li>Additions\n",
    "<li>Multiplications\n",
    "<li>Transpose\n",
    "<li>Identity\n"
   ]
  },
  {
   "cell_type": "code",
   "execution_count": null,
   "metadata": {},
   "outputs": [],
   "source": [
    "import numpy as np"
   ]
  },
  {
   "cell_type": "code",
   "execution_count": null,
   "metadata": {},
   "outputs": [],
   "source": [
    "# Row Vector or (1 x n) Matrix\n",
    "\n",
    "x = np.array([1, 2, 3])\n",
    "print(x)"
   ]
  },
  {
   "cell_type": "code",
   "execution_count": null,
   "metadata": {},
   "outputs": [],
   "source": [
    "# Column Vector or (n x 1) Matrix\n",
    "\n",
    "x = np.array([[1],[2],[3]])\n",
    "print(x)"
   ]
  },
  {
   "cell_type": "code",
   "execution_count": null,
   "metadata": {},
   "outputs": [],
   "source": [
    "# Square Matrix or (n x n) Matrix\n",
    "\n",
    "x = np.array([[1,2,3], [4,5,6], [7,8,9]])\n",
    "print(x)"
   ]
  },
  {
   "cell_type": "code",
   "execution_count": null,
   "metadata": {},
   "outputs": [],
   "source": [
    "# (m x n) Matrix\n",
    "\n",
    "x = np.array([[1,2,3], [4,5,6]])\n",
    "print(x)"
   ]
  },
  {
   "cell_type": "code",
   "execution_count": null,
   "metadata": {},
   "outputs": [],
   "source": [
    "# Shape of the Matrix\n",
    "\n",
    "x = np.array([[1,2,3], [4,5,6], [7,8,9]])\n",
    "shape = np.shape(x)\n",
    "\n",
    "print(x)\n",
    "print(\"\\nShape : \", shape)"
   ]
  },
  {
   "cell_type": "markdown",
   "metadata": {},
   "source": [
    "# Identity Matrix"
   ]
  },
  {
   "cell_type": "code",
   "execution_count": null,
   "metadata": {},
   "outputs": [],
   "source": [
    "# (n x n) Identity Matrix\n",
    "\n",
    "x = np.eye(4)\n",
    "print(x)"
   ]
  },
  {
   "cell_type": "markdown",
   "metadata": {},
   "source": [
    "# Random Matrix"
   ]
  },
  {
   "cell_type": "code",
   "execution_count": null,
   "metadata": {},
   "outputs": [],
   "source": [
    "# Generating (m x n) Random Matrix\n",
    "\n",
    "x = np.random.randint(20, size=(3, 4))\n",
    "print(x)"
   ]
  },
  {
   "cell_type": "code",
   "execution_count": null,
   "metadata": {},
   "outputs": [],
   "source": [
    "# Generating (n x n) Random Matrix\n",
    "\n",
    "x = np.random.randint(20, size=(4, 4))\n",
    "print(x)"
   ]
  },
  {
   "cell_type": "markdown",
   "metadata": {},
   "source": [
    "# Transpose of a Matrix"
   ]
  },
  {
   "cell_type": "code",
   "execution_count": null,
   "metadata": {},
   "outputs": [],
   "source": [
    "A = np.random.randint(20, size=(3, 4))\n",
    "\n",
    "transpose = A.T\n",
    "\n",
    "print(A)\n",
    "\n",
    "print(transpose)"
   ]
  },
  {
   "cell_type": "markdown",
   "metadata": {},
   "source": [
    "# Matrix Addition"
   ]
  },
  {
   "cell_type": "code",
   "execution_count": null,
   "metadata": {},
   "outputs": [],
   "source": [
    "# Matrix Addition\n",
    "\n",
    "a = np.random.randint(20, size=(4,4))\n",
    "b = np.random.randint(20, size=(4,4))\n",
    "\n",
    "sum = a + b\n",
    "print(\"\\na : \\n\", a)\n",
    "print(\"\\nb : \\n\", b)\n",
    "print(\"\\nsum : \\n\", sum)"
   ]
  },
  {
   "cell_type": "code",
   "execution_count": null,
   "metadata": {},
   "outputs": [],
   "source": [
    "# Scalar Addition\n",
    "\n",
    "a = np.random.randint(10, size=(3,3))\n",
    "scalar = 5\n",
    "\n",
    "scalar_sum = scalar + a\n",
    "\n",
    "print(\"\\nscalar : \", scalar)\n",
    "print(\"\\na : \\n\", a)\n",
    "print(\"\\nscalar_sum : \\n\", scalar_sum)"
   ]
  },
  {
   "cell_type": "markdown",
   "metadata": {},
   "source": [
    "# Matrix Multiplication"
   ]
  },
  {
   "cell_type": "code",
   "execution_count": null,
   "metadata": {},
   "outputs": [],
   "source": [
    "# Matrix Multiplication\n",
    "\n",
    "a = np.random.randint(6, size=(4,3))\n",
    "b = np.random.randint(5, size=(3,5))\n",
    "\n",
    "result_matrix = a.dot(b)\n",
    "print(\"\\na : \\n\", a)\n",
    "print(\"\\nb : \\n\", b)\n",
    "print(\"\\nresult : \\n\", result_matrix)\n",
    "print(\"\\nresult matrix shape : \", np.shape(result_matrix))"
   ]
  },
  {
   "cell_type": "code",
   "execution_count": null,
   "metadata": {},
   "outputs": [],
   "source": [
    "# Scalar Multiplication\n",
    "\n",
    "a = np.random.randint(10, size=(3,3))\n",
    "scalar = 5\n",
    "\n",
    "result_matrix = scalar * a\n",
    "\n",
    "print(\"\\nscalar : \", scalar)\n",
    "print(\"\\na : \\n\", a)\n",
    "print(\"\\nresult : \\n\", result_matrix)\n",
    "print(\"\\nresult matrix shape : \", np.shape(result_matrix))"
   ]
  },
  {
   "cell_type": "markdown",
   "metadata": {},
   "source": [
    "# Matrices mutliplication is distributive A(B+C)=AB+AC"
   ]
  },
  {
   "cell_type": "code",
   "execution_count": null,
   "metadata": {},
   "outputs": [],
   "source": [
    "A = np.random.randint(6, size=(2,3))\n",
    "B = np.random.randint(5, size=(3,5))\n",
    "C = np.random.randint(5, size=(3,5))\n",
    "\n",
    "result1 = A.dot(B + C)\n",
    "result2 = A.dot(B) + A.dot(C)\n",
    "\n",
    "print(\"\\nA : \\n\", A)\n",
    "print(\"\\nB : \\n\", B)\n",
    "print(\"\\nC : \\n\", C)\n",
    "\n",
    "print(\"\\nresult1 : \\n\", result1)\n",
    "print(\"\\nresult2 : \\n\", result2)\n",
    "\n",
    "print(\"\\n\\nMatrix Multiplication is Distributive : \", np.array_equal(result1, result2))\n"
   ]
  },
  {
   "cell_type": "markdown",
   "metadata": {},
   "source": [
    "# Matrices mutliplication is associative A(BC)=(AB)C"
   ]
  },
  {
   "cell_type": "code",
   "execution_count": null,
   "metadata": {},
   "outputs": [],
   "source": [
    "A = np.random.randint(6, size=(3,5))\n",
    "B = np.random.randint(5, size=(5,3))\n",
    "C = np.random.randint(5, size=(3,4))\n",
    "\n",
    "result1 = A.dot(np.dot(B, C))\n",
    "result2 = (np.dot(A,B)).dot(C)\n",
    "\n",
    "print(\"\\nA : \\n\", A)\n",
    "print(\"\\nB : \\n\", B)\n",
    "print(\"\\nC : \\n\", C)\n",
    "\n",
    "print(\"\\nresult1 : \\n\", result1)\n",
    "print(\"\\nresult2 : \\n\", result2)\n",
    "\n",
    "print(\"\\n\\nMatrix Multiplication is Associative : \", np.array_equal(result1, result2))"
   ]
  },
  {
   "cell_type": "markdown",
   "metadata": {},
   "source": [
    "# Matrix multiplication is not commutative AB≠BA"
   ]
  },
  {
   "cell_type": "code",
   "execution_count": null,
   "metadata": {},
   "outputs": [],
   "source": [
    "A = np.random.randint(6, size=(3,3))\n",
    "B = np.random.randint(5, size=(3,3))\n",
    "\n",
    "result1 = A.dot(B)\n",
    "result2 = B.dot(A)\n",
    "\n",
    "print(\"\\nA : \\n\", A)\n",
    "print(\"\\nB : \\n\", B)\n",
    "\n",
    "print(\"\\nresult1 : \\n\", result1)\n",
    "print(\"\\nresult2 : \\n\", result2)\n",
    "\n",
    "print(\"\\n\\nMatrix Multiplication is Commutative : \", np.array_equal(result1, result2))"
   ]
  },
  {
   "cell_type": "markdown",
   "metadata": {},
   "source": [
    "# Matrix Inversion"
   ]
  },
  {
   "cell_type": "code",
   "execution_count": null,
   "metadata": {},
   "outputs": [],
   "source": [
    "A = np.random.randint(6, size=(3,3))\n",
    "\n",
    "inverse = np.linalg.inv(x)\n",
    "\n",
    "print(\"\\nA : \\n\", A)\n",
    "print(\"\\nInverse : \\n\", inverse)\n"
   ]
  },
  {
   "cell_type": "markdown",
   "metadata": {},
   "source": [
    "# Upper Triangualr Matrix"
   ]
  },
  {
   "cell_type": "code",
   "execution_count": null,
   "metadata": {},
   "outputs": [],
   "source": [
    "A = np.random.randint(6, size=(4,4))\n",
    "upper = np.triu(A, 0)\n",
    "\n",
    "print(\"\\nA : \\n\", A)\n",
    "print(\"\\nUpper : \\n\", upper)"
   ]
  },
  {
   "cell_type": "markdown",
   "metadata": {},
   "source": [
    "# Lower Triangular Matrix"
   ]
  },
  {
   "cell_type": "code",
   "execution_count": null,
   "metadata": {},
   "outputs": [],
   "source": [
    "A = np.random.randint(6, size=(4,4))\n",
    "lower = np.tril(A, 0)\n",
    "\n",
    "print(\"\\nA : \\n\", A)\n",
    "print(\"\\nLower : \\n\", lower)\n"
   ]
  },
  {
   "cell_type": "code",
   "execution_count": null,
   "metadata": {},
   "outputs": [],
   "source": []
  },
  {
   "cell_type": "code",
   "execution_count": null,
   "metadata": {},
   "outputs": [],
   "source": []
  },
  {
   "cell_type": "code",
   "execution_count": null,
   "metadata": {},
   "outputs": [],
   "source": []
  },
  {
   "cell_type": "code",
   "execution_count": null,
   "metadata": {},
   "outputs": [],
   "source": []
  },
  {
   "cell_type": "markdown",
   "metadata": {},
   "source": [
    "# References:\n",
    "\n",
    "https://en.wikipedia.org/wiki/Matrix_(mathematics)\n",
    "\n",
    "https://en.wikipedia.org/wiki/Matrix_multiplication\n",
    "\n",
    "https://docs.scipy.org/doc/numpy/user/quickstart.html"
   ]
  }
 ],
 "metadata": {
  "kernelspec": {
   "display_name": "Python 3",
   "language": "python",
   "name": "python3"
  },
  "language_info": {
   "codemirror_mode": {
    "name": "ipython",
    "version": 3
   },
   "file_extension": ".py",
   "mimetype": "text/x-python",
   "name": "python",
   "nbconvert_exporter": "python",
   "pygments_lexer": "ipython3",
   "version": "3.5.2"
  }
 },
 "nbformat": 4,
 "nbformat_minor": 2
}
